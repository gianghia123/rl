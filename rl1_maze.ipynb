{
 "cells": [
  {
   "cell_type": "code",
   "execution_count": 1,
   "id": "fcdcd3b3",
   "metadata": {},
   "outputs": [],
   "source": [
    "from typing import Union\n",
    "from enum import Enum, auto\n",
    "\n",
    "import numpy as np\n",
    "import matplotlib.pyplot as plt\n",
    "import random\n",
    "\n",
    "from tqdm import trange\n",
    "\n",
    "from maze import Maze, Status, Enviroment"
   ]
  },
  {
   "cell_type": "code",
   "execution_count": 2,
   "id": "cae27c5c-eec2-4864-9be0-9c3d8283a9a1",
   "metadata": {},
   "outputs": [],
   "source": [
    "class Agent:\n",
    "    def __init__(self, seed: Union[str, bytes, int]) -> None:\n",
    "        self.values = np.full((5 * 5), 1, dtype = np.float64)\n",
    "        self.policy = np.full((5 * 5, 4), 1, dtype = np.float64)\n",
    "        # self.policy[99, ::] = [0, 0, 0, 0]\n",
    "        self.envi = Enviroment(seed = seed)\n",
    "\n",
    "    def vis_pol(self) -> None:\n",
    "        self.envi.reset()\n",
    "        status = Status.IN_PROGRESS\n",
    "        current_loc = 0\n",
    "        i = 0\n",
    "        path = []\n",
    "        while status == Status.IN_PROGRESS:\n",
    "            try:\n",
    "                # Determine, from the current policy, a move for the current state\n",
    "                move = random.choices(['n', 's', 'w', 'e'], weights = self.policy[current_loc], k = 1)[0]\n",
    "                new_status, new_loc = self.envi.step(move)\n",
    "                status = new_status\n",
    "                print(status)\n",
    "                path.append(new_loc)\n",
    "                i += 1\n",
    "            except AssertionError:\n",
    "                break       \n",
    "        print(path)\n",
    "        print(self.envi.trace_path(path))\n",
    "\n",
    "    def trace(self) -> dict:\n",
    "        self.envi.reset()\n",
    "        state_reward = {}\n",
    "        status = Status.IN_PROGRESS\n",
    "        current_loc = 0\n",
    "        i = 0\n",
    "        while status == Status.IN_PROGRESS:\n",
    "            # Determine, from the current policy, a move for the current state\n",
    "            move = random.choices(['n', 's', 'w', 'e'], weights = self.policy[current_loc], k = 1)[0]\n",
    "            new_status, reward, new_loc = self.envi.next(move)\n",
    "            status = new_status\n",
    "            state_reward[(new_loc, i)] = reward\n",
    "            i += 1\n",
    "        return state_reward\n",
    "    \n",
    "    def approx_values(self) -> None:\n",
    "        returns = [[] for i in range(25)]\n",
    "        for i in trange(10000):\n",
    "            rewards = self.trace()\n",
    "            visited = set()\n",
    "            for s, i in rewards:\n",
    "                if s in visited:\n",
    "                    continue\n",
    "                else:\n",
    "                    visited.add(s)\n",
    "                    returns[s].append(rewards[(s, i)])\n",
    "                    self.values[s] = np.mean(returns[s])\n",
    "            for i in range(25):\n",
    "                neighbors = np.zeros(4)\n",
    "                x, y = i % 5, i // 5\n",
    "                for j, (dx, dy) in enumerate([(0, -1), (0, 1), (-1, 0), (1, 0)]):\n",
    "                    nx, ny = x + dx, y + dy\n",
    "                    if (0 <= nx < 5 and 0 <= ny < 5):\n",
    "                        neighbors[j] = (self.values[ny * 5 + nx])\n",
    "                    else:\n",
    "                        pass\n",
    "                self.policy[i] = np.exp(-neighbors) / np.sum(np.exp(-neighbors))"
   ]
  },
  {
   "cell_type": "code",
   "execution_count": null,
   "id": "aff39530-cca1-4a88-85d5-c2190da1a1b5",
   "metadata": {},
   "outputs": [],
   "source": [
    "agent = Agent(b'imbored')\n",
    "print(agent.envi.envi)\n",
    "agent.approx_values()\n",
    "agent.vis_pol()"
   ]
  },
  {
   "cell_type": "code",
   "execution_count": null,
   "id": "66e0d97b-ae3d-424d-b08b-2d21b31dd1ae",
   "metadata": {},
   "outputs": [],
   "source": []
  }
 ],
 "metadata": {
  "kernelspec": {
   "display_name": "rl",
   "language": "python",
   "name": "rl"
  },
  "language_info": {
   "codemirror_mode": {
    "name": "ipython",
    "version": 3
   },
   "file_extension": ".py",
   "mimetype": "text/x-python",
   "name": "python",
   "nbconvert_exporter": "python",
   "pygments_lexer": "ipython3",
   "version": "3.11.2"
  }
 },
 "nbformat": 4,
 "nbformat_minor": 5
}
